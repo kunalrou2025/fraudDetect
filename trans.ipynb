{
 "cells": [
  {
   "cell_type": "code",
   "execution_count": null,
   "id": "9df8a8de-dffb-4c81-87fd-ca66dea07f75",
   "metadata": {},
   "outputs": [],
   "source": [
    "#Q1.Data cleaning including missing values, outliers and multi-collinearity. \n",
    "Missing Values: Impute missing values using median for numerical data and mode for categorical data. Drop features with excessive missingness.\n",
    "Outliers: Identify outliers using box plots, then decide to cap or remove them based on their impact.\n",
    "Multi-Collinearity: Analyze correlations, removing or combining highly correlated features."
   ]
  },
  {
   "cell_type": "code",
   "execution_count": 3,
   "id": "76786f32-e332-4196-bd07-586258f6bb32",
   "metadata": {},
   "outputs": [
    {
     "name": "stdout",
     "output_type": "stream",
     "text": [
      "step              0\n",
      "type              0\n",
      "amount            0\n",
      "nameOrig          0\n",
      "oldbalanceOrg     0\n",
      "newbalanceOrig    0\n",
      "nameDest          0\n",
      "oldbalanceDest    0\n",
      "newbalanceDest    1\n",
      "isFraud           1\n",
      "isFlaggedFraud    1\n",
      "dtype: int64\n",
      "               step        amount  oldbalanceOrg  newbalanceOrig  \\\n",
      "count  5.826672e+06  5.826672e+06   5.826672e+06    5.826672e+06   \n",
      "mean   2.179849e+02  1.812758e+05   8.435524e+05    8.655076e+05   \n",
      "std    1.163072e+02  6.175381e+05   2.929243e+06    2.966026e+06   \n",
      "min    1.000000e+00  0.000000e+00   0.000000e+00    0.000000e+00   \n",
      "25%    1.400000e+02  1.355503e+04   0.000000e+00    0.000000e+00   \n",
      "50%    2.290000e+02  7.570114e+04   1.376500e+04    0.000000e+00   \n",
      "75%    3.100000e+02  2.100013e+05   1.071819e+05    1.445474e+05   \n",
      "max    4.020000e+02  9.244552e+07   4.489219e+07    4.368662e+07   \n",
      "\n",
      "       oldbalanceDest  newbalanceDest       isFraud  isFlaggedFraud  \n",
      "count    5.826672e+06    5.826672e+06  5.826672e+06    5.826672e+06  \n",
      "mean     1.093534e+06    1.221187e+06  7.714524e-04    6.864982e-07  \n",
      "std      3.330196e+06    3.628094e+06  2.776432e-02    8.285517e-04  \n",
      "min      0.000000e+00    0.000000e+00  0.000000e+00    0.000000e+00  \n",
      "25%      0.000000e+00    0.000000e+00  0.000000e+00    0.000000e+00  \n",
      "50%      1.363292e+05    2.193747e+05  0.000000e+00    0.000000e+00  \n",
      "75%      9.482733e+05    1.120658e+06  0.000000e+00    0.000000e+00  \n",
      "max      3.555534e+08    3.560159e+08  1.000000e+00    1.000000e+00  \n"
     ]
    }
   ],
   "source": [
    "import pandas as pd\n",
    "df=pd.read_csv('Fraud.csv')\n",
    "print(df.isnull().sum())\n",
    "df = df.dropna()\n",
    "df = df.drop_duplicates()\n",
    "print(df.describe())"
   ]
  },
  {
   "cell_type": "code",
   "execution_count": 12,
   "id": "443a40cf-0fc8-44d5-a68f-c596b5c854d0",
   "metadata": {},
   "outputs": [
    {
     "data": {
      "image/png": "[encoded data removed]",
      "text/plain": [
       "<Figure size 640x480 with 1 Axes>"
      ]
     },
     "metadata": {},
     "output_type": "display_data"
    }
   ],
   "source": [
    "import seaborn as sns\n",
    "import matplotlib.pyplot as plt\n",
    "sns.boxplot(data=df['amount'])\n",
    "plt.show()\n"
   ]
  },
  {
   "cell_type": "code",
   "execution_count": 14,
   "id": "5d6c6ad1-caee-4f71-997f-34eda7dbe065",
   "metadata": {},
   "outputs": [],
   "source": [
    "df_clean = df.dropna()\n",
    "X_train, X_test, y_train, y_test = train_test_split(\n",
    "    df_clean[['step', 'amount', 'oldbalanceOrg', 'newbalanceOrig', 'oldbalanceDest', 'newbalanceDest']], \n",
    "    df_clean['isFraud'], \n",
    "    test_size=0.2, \n",
    "    random_state=42\n",
    ")\n"
   ]
  },
  {
   "cell_type": "code",
   "execution_count": 8,
   "id": "b1b9ca88-75fa-4f40-a038-f0521646b94d",
   "metadata": {},
   "outputs": [
    {
     "name": "stdout",
     "output_type": "stream",
     "text": [
      "               step        amount  oldbalanceOrg  newbalanceOrig  \\\n",
      "count  3.556560e+06  3.556560e+06   3.556560e+06    3.556560e+06   \n",
      "mean   2.176876e+02  1.670751e+05   1.316633e+06    1.357408e+06   \n",
      "std    1.161766e+02  1.192833e+05   3.630633e+06    3.670741e+06   \n",
      "min    1.000000e+00  0.000000e+00   0.000000e+00    0.000000e+00   \n",
      "25%    1.400000e+02  7.020725e+04   0.000000e+00    0.000000e+00   \n",
      "50%    2.280000e+02  1.452187e+05   2.002200e+04    0.000000e+00   \n",
      "75%    3.090000e+02  2.433988e+05   2.178242e+05    3.289359e+05   \n",
      "max    4.020000e+02  5.046690e+05   4.381886e+07    4.368662e+07   \n",
      "\n",
      "       oldbalanceDest  newbalanceDest       isFraud  isFlaggedFraud  \n",
      "count    3.556560e+06    3.556559e+06  3.556559e+06       3556559.0  \n",
      "mean     1.519249e+06    1.600674e+06  6.829635e-04             0.0  \n",
      "std      3.549171e+06    3.570147e+06  2.612465e-02             0.0  \n",
      "min      0.000000e+00    0.000000e+00  0.000000e+00             0.0  \n",
      "25%      1.375830e+05    2.022550e+05  0.000000e+00             0.0  \n",
      "50%      5.156939e+05    6.022996e+05  0.000000e+00             0.0  \n",
      "75%      1.553206e+06    1.657649e+06  0.000000e+00             0.0  \n",
      "max      3.555534e+08    3.553814e+08  1.000000e+00             0.0  \n"
     ]
    }
   ],
   "source": [
    "import pandas as pd\n",
    "df=pd.read_csv('Fraud.csv')\n",
    "Q1 = df['amount'].quantile(0.25)\n",
    "Q3 = df['amount'].quantile(0.75)\n",
    "IQR = Q3 - Q1\n",
    "df = df[~((df['amount'] < (Q1 - 1.5 * IQR)) | (df['amount'] > (Q3 + 1.5 * IQR)))]\n",
    "df = df[~df['nameDest'].str.startswith('M')]\n",
    "print(df.describe())"
   ]
  },
  {
   "cell_type": "code",
   "execution_count": 10,
   "id": "a633a1b8-0421-4c60-962b-418565a40ce9",
   "metadata": {},
   "outputs": [],
   "source": [
    "#Data Preparation \n",
    "from sklearn.model_selection import train_test_split\n",
    "X = df[['step', 'amount', 'oldbalanceOrg', 'newbalanceOrig', \n",
    "        'oldbalanceDest', 'newbalanceDest']]\n",
    "y = df['isFraud'] \n",
    "#80% train and 20% test\n",
    "X_train, X_test, y_train, y_test = train_test_split(X, y, test_size=0.2, random_state=42)\n"
   ]
  },
  {
   "cell_type": "code",
   "execution_count": null,
   "id": "9b2934de-5d1a-45a5-af02-e42ef35e0b50",
   "metadata": {},
   "outputs": [],
   "source": [
    " # Q2. Describe your fraud detection model in elaboration. \n",
    "Utilizing Logistic regression for predicting binary output ( fraud and non fraud transaction).\n",
    "Model Training: The model was trained on a large dataset of past transactions, which included both fraudulent and non-fraudulent examples. This training allows the model to learn the relationship between the input features and the outcome.\n"
   ]
  },
  {
   "cell_type": "code",
   "execution_count": 15,
   "id": "361a64c0-c1b3-4661-9a6b-fd6dd0e2bdfe",
   "metadata": {},
   "outputs": [],
   "source": [
    "from sklearn.linear_model import LogisticRegression\n",
    "\n",
    "log_reg = LogisticRegression(max_iter=1000) \n",
    "\n",
    "log_reg.fit(X_train, y_train)\n",
    "\n",
    "\n",
    "y_pred = log_reg.predict(X_test)\n",
    "y_pred_proba = log_reg.predict_proba(X_test)[:, 1] \n"
   ]
  },
  {
   "cell_type": "code",
   "execution_count": null,
   "id": "dd8f70a6-6bb2-439f-a7e4-96a491d12353",
   "metadata": {},
   "outputs": [],
   "source": [
    "# 3.How did you select variables to be included in the model?\n",
    "Selected features based on domain knowledge and exploratory data analysis. Key variables included amount, oldbalanceOrg, and transaction types.\n"
   ]
  },
  {
   "cell_type": "code",
   "execution_count": 17,
   "id": "29b436a2-2dca-4f5c-85a4-b737802b11b9",
   "metadata": {},
   "outputs": [
    {
     "name": "stdout",
     "output_type": "stream",
     "text": [
      "Confusion Matrix:\n",
      "[[710787     39]\n",
      " [   344    142]]\n"
     ]
    },
    {
     "data": {
      "image/png": "[encoded data removed]",
      "text/plain": [
       "<Figure size 600x400 with 1 Axes>"
      ]
     },
     "metadata": {},
     "output_type": "display_data"
    }
   ],
   "source": [
    "#NOW EVALUATING THE MODEL:\n",
    "from sklearn.metrics import confusion_matrix\n",
    "import seaborn as sns\n",
    "import matplotlib.pyplot as plt\n",
    "\n",
    "\n",
    "\n",
    "cm = confusion_matrix(y_test, y_pred)\n",
    "\n",
    "\n",
    "print(\"Confusion Matrix:\")\n",
    "print(cm)\n",
    "\n",
    "\n",
    "plt.figure(figsize=(6, 4))\n",
    "sns.heatmap(cm, annot=True, fmt='d', cmap='Blues', cbar=False)\n",
    "plt.xlabel('Predicted Label')\n",
    "plt.ylabel('True Label')\n",
    "plt.title('Confusion Matrix for Logistic Regression')\n",
    "plt.show()\n"
   ]
  },
  {
   "cell_type": "code",
   "execution_count": 18,
   "id": "99be8161-3215-4d18-9f58-2738acf94bfc",
   "metadata": {},
   "outputs": [
    {
     "name": "stdout",
     "output_type": "stream",
     "text": [
      "F1 Score: 0.43\n"
     ]
    }
   ],
   "source": [
    "from sklearn.metrics import f1_score\n",
    "f1 = f1_score(y_test, y_pred)\n",
    "print(f'F1 Score: {f1:.2f}')\n"
   ]
  },
  {
   "cell_type": "code",
   "execution_count": null,
   "id": "def27704-8ed3-43a0-b8c2-47b6ef06f660",
   "metadata": {},
   "outputs": [],
   "source": [
    "#   Q4.Demonstrate the performance of the model by using best set of tools. \n",
    "The model is evaluated by Confusion Matrix and F1-score\n",
    "F1 SCORE:0.43 THAT MEANS MODERATE, IT CAN IDENTIFY FRAUDS TRANSACTIONS AT DECENT LEVEL.\n",
    "\n",
    "Confusion matrix results:\n",
    "Confusion Matrix:\n",
    "[[710787     39]\n",
    " [   344    142]]\n",
    "True Negatives (TN): 710,787 — These are the normal transactions that the model correctly identified as not being fraud.\n",
    "False Positives (FP): 39 — These are normal transactions that the model mistakenly labeled as fraud. So, these transactions are actually fine, but the model raised a false alarm.\n",
    "False Negatives (FN): 344 — These are fraudulent transactions that the model failed to identify. The model thought they were normal when they were actually scams.\n",
    "True Positives (TP): 142 — These are the fraudulent transactions that the model correctly identified as scams.\n"
   ]
  },
  {
   "cell_type": "code",
   "execution_count": null,
   "id": "90c17cba-7352-4783-8c03-a1e71ba8c19c",
   "metadata": {},
   "outputs": [],
   "source": [
    "# Q5.What are the key factors that predict fraudulent customer?\n",
    "High transaction amounts, significant balance changes, and certain transaction types (like CASH-OUT) were identified as key predictors.\n"
   ]
  },
  {
   "cell_type": "code",
   "execution_count": null,
   "id": "fc34b88a-39be-45f5-8982-b2185f2a49fe",
   "metadata": {},
   "outputs": [],
   "source": [
    "# Q6.Do these factors make sense? If yes, How? If not, How not? \n",
    "Yes, as high amounts and unusual account activity are strong indicators of potential fraud.These signs suggest that fraud could be happening.\n"
   ]
  },
  {
   "cell_type": "code",
   "execution_count": null,
   "id": "bbf1ac86-6c68-4d4b-8fe3-3372a79b6e09",
   "metadata": {},
   "outputs": [],
   "source": [
    "\n",
    "# Q7.What kind of prevention should be adopted while company update its infrastructure?\n",
    "Watch Transactions in Real-Time: Check transactions as they occur to catch any suspicious activity right away.\n",
    "Add Extra Security for Big Transactions: If someone tries to move a lot of money, we should ask them to verify their identity again, like entering a code sent to their phone.\n"
   ]
  },
  {
   "cell_type": "code",
   "execution_count": null,
   "id": "097e7bfb-372f-480f-b6fd-bfffaf1bd677",
   "metadata": {},
   "outputs": [],
   "source": [
    "# Q8.Assuming these actions have been implemented, how would you determine if they work?\n",
    "Run A/B Testing: Compare results by testing two different versions of our fraud detection approach to see which one performs better.\n",
    "Look at Mistakes: Analyze the transactions we incorrectly flagged as fraud (false positives) and those we missed (false negatives) to understand where we can improve."
   ]
  }
 ],
 "metadata": {
  "kernelspec": {
   "display_name": "Python 3 (ipykernel)",
   "language": "python",
   "name": "python3"
  },
  "language_info": {
   "codemirror_mode": {
    "name": "ipython",
    "version": 3
   },
   "file_extension": ".py",
   "mimetype": "text/x-python",
   "name": "python",
   "nbconvert_exporter": "python",
   "pygments_lexer": "ipython3",
   "version": "3.12.4"
  }
 },
 "nbformat": 4,
 "nbformat_minor": 5
}
